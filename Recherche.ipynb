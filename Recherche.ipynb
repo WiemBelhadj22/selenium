{
 "cells": [
  {
   "cell_type": "code",
   "execution_count": 12,
   "id": "4a4f400f",
   "metadata": {},
   "outputs": [],
   "source": [
    "#importation\n",
    "from selenium import webdriver\n",
    "from selenium.webdriver import ActionChains\n",
    "from selenium.webdriver.common.keys import Keys\n",
    "from selenium.webdriver.common.action_chains import ActionChains\n",
    "from selenium.webdriver.support import expected_conditions as EC\n",
    "from selenium.webdriver.common.by import By\n",
    "from selenium.webdriver.support.wait import WebDriverWait"
   ]
  },
  {
   "cell_type": "code",
   "execution_count": 13,
   "id": "e35e153f",
   "metadata": {},
   "outputs": [],
   "source": [
    "#importation\n",
    "from selenium.common.exceptions import NoSuchElementException\n",
    "from selenium.common.exceptions import StaleElementReferenceException\n",
    "from selenium.webdriver.common.by import By\n",
    "from selenium.webdriver.support.ui import WebDriverWait\n",
    "from selenium.webdriver.support import expected_conditions"
   ]
  },
  {
   "cell_type": "code",
   "execution_count": 14,
   "id": "684a146a",
   "metadata": {},
   "outputs": [],
   "source": [
    "#importation\n",
    "import time, urllib.request\n",
    "import requests\n",
    "#import xmltojson\n",
    "import json"
   ]
  },
  {
   "cell_type": "code",
   "execution_count": 15,
   "id": "a3cb9f7d",
   "metadata": {},
   "outputs": [
    {
     "name": "stdout",
     "output_type": "stream",
     "text": [
      "Requirement already satisfied: wget in c:\\programdata\\anaconda3\\lib\\site-packages (3.2)\n"
     ]
    }
   ],
   "source": [
    "!pip install wget"
   ]
  },
  {
   "cell_type": "code",
   "execution_count": 16,
   "id": "61ca84bb",
   "metadata": {},
   "outputs": [],
   "source": [
    "import os\n",
    "import sys\n",
    "import wget"
   ]
  },
  {
   "cell_type": "code",
   "execution_count": 23,
   "id": "0e412a4c",
   "metadata": {},
   "outputs": [
    {
     "name": "stderr",
     "output_type": "stream",
     "text": [
      "C:\\Users\\User\\AppData\\Local\\Temp/ipykernel_7356/832189321.py:2: DeprecationWarning: executable_path has been deprecated, please pass in a Service object\n",
      "  driver = webdriver.Chrome('C:/Windows/chromedriver.exe')\n"
     ]
    }
   ],
   "source": [
    "# initialize driver\n",
    "driver = webdriver.Chrome('C:/Windows/chromedriver.exe')"
   ]
  },
  {
   "cell_type": "code",
   "execution_count": 18,
   "id": "0ceb738a",
   "metadata": {},
   "outputs": [],
   "source": [
    "#login\n",
    "def login(username_, password_):\n",
    "    #open the webpage\n",
    "    driver.get('https://www.instagram.com/')\n",
    "    \n",
    "    # accepting the cookies\n",
    "    try:\n",
    "        cookies_accept= driver.find_element_by_xpath('//button[text()=\"Accepter\"]')\n",
    "        cookies_accept.click()\n",
    "        time.sleep(1)\n",
    "    except:\n",
    "        pass\n",
    "    \n",
    "    #target username\n",
    "    username = WebDriverWait(driver, 10).until(EC.element_to_be_clickable((By.CSS_SELECTOR, \"input[name='username']\")))\n",
    "    password = WebDriverWait(driver, 10).until(EC.element_to_be_clickable((By.CSS_SELECTOR, \"input[name='password']\")))\n",
    "\n",
    "    username.click()\n",
    "    username.send_keys(username_)\n",
    "    time.sleep(1)\n",
    "\n",
    "    password.click()\n",
    "    password.send_keys(password_)\n",
    "    time.sleep(1)\n",
    "\n",
    "    log_in=driver.find_element_by_xpath('//div[text()=\"Se connecter\"]')\n",
    "    log_in.click()\n",
    "    time.sleep(4)\n",
    "\n",
    "    \n",
    "    # credential storage\n",
    "    try:\n",
    "        credentials= driver.find_element_by_xpath('//button[text()=\"Plus tard\"]')\n",
    "        credentials.click()\n",
    "        time.sleep(1)\n",
    "    except:\n",
    "        pass\n",
    "\n",
    "    #  notifications\n",
    "    try:\n",
    "        notifications = driver.find_element_by_xpath('//button[text()=\"Plus tard\"]')\n",
    "        notifications.click()\n",
    "        time.sleep(1)\n",
    "    except:\n",
    "        pass\n"
   ]
  },
  {
   "cell_type": "code",
   "execution_count": 19,
   "id": "e8eb00f3",
   "metadata": {},
   "outputs": [],
   "source": [
    "def find_profile(keyword):\n",
    "    #target the search input field\n",
    "    searchbox = WebDriverWait(driver, 10).until(EC.element_to_be_clickable((By.XPATH, \"//input[@placeholder='Rechercher']\")))\n",
    "    searchbox.clear()\n",
    "\n",
    "    #search for the hashtag \n",
    "    searchbox.send_keys(keyword)\n",
    "    time.sleep(2)\n",
    "    searchbox.send_keys(Keys.DOWN)\n",
    "    time.sleep(2)\n",
    "    searchbox.send_keys(Keys.ENTER)\n",
    "    time.sleep(2)\n",
    "    \n",
    "    follow=WebDriverWait(driver, 10).until(EC.element_to_be_clickable((By.XPATH, '//button[contains(text(), \"S’abonner\")]')))\n",
    "    follow.click()\n",
    "    time.sleep(2)\n",
    "\n",
    "    first_pic= driver.find_element_by_xpath('//div[@class=\"_aagw\"]')\n",
    "    first_pic.click()\n",
    "    time.sleep(2)\n",
    "\n",
    "    user = driver.find_element_by_xpath('//a[@class=\"oajrlxb2 g5ia77u1 qu0x051f esr5mh6w e9989ue4 r7d6kgcz rq0escxv nhd2j8a9 nc684nl6 p7hjln8o kvgmc6g5 cxmmr5t8 oygrvhab hcukyx3x jb3vyjys rz4wbd8a qt6c0cv9 a8nywdso i1ao9s8h esuyzwwr f1sip0of lzcic4wl _acan _acao _acat _acaw _a6hd\"]')\n",
    "\n",
    "    user_content=user.get_attribute('href')\n",
    "    print (user_content)\n"
   ]
  },
  {
   "cell_type": "code",
   "execution_count": 25,
   "id": "feb38149",
   "metadata": {},
   "outputs": [
    {
     "name": "stderr",
     "output_type": "stream",
     "text": [
      "C:\\Users\\User\\AppData\\Local\\Temp/ipykernel_7356/1666329850.py:8: DeprecationWarning: find_element_by_xpath is deprecated. Please use find_element(by=By.XPATH, value=xpath) instead\n",
      "  cookies_accept= driver.find_element_by_xpath('//button[text()=\"Accepter\"]')\n",
      "C:\\Users\\User\\AppData\\Local\\Temp/ipykernel_7356/1666329850.py:26: DeprecationWarning: find_element_by_xpath is deprecated. Please use find_element(by=By.XPATH, value=xpath) instead\n",
      "  log_in=driver.find_element_by_xpath('//div[text()=\"Se connecter\"]')\n",
      "C:\\Users\\User\\AppData\\Local\\Temp/ipykernel_7356/1666329850.py:33: DeprecationWarning: find_element_by_xpath is deprecated. Please use find_element(by=By.XPATH, value=xpath) instead\n",
      "  credentials= driver.find_element_by_xpath('//button[text()=\"Plus tard\"]')\n",
      "C:\\Users\\User\\AppData\\Local\\Temp/ipykernel_7356/1666329850.py:41: DeprecationWarning: find_element_by_xpath is deprecated. Please use find_element(by=By.XPATH, value=xpath) instead\n",
      "  notifications = driver.find_element_by_xpath('//button[text()=\"Plus tard\"]')\n"
     ]
    }
   ],
   "source": [
    "login('orthlane_w', 'orthlaner')"
   ]
  },
  {
   "cell_type": "code",
   "execution_count": 27,
   "id": "62661569",
   "metadata": {},
   "outputs": [
    {
     "name": "stderr",
     "output_type": "stream",
     "text": [
      "C:\\Users\\User\\AppData\\Local\\Temp/ipykernel_7356/3577569963.py:18: DeprecationWarning: find_element_by_xpath is deprecated. Please use find_element(by=By.XPATH, value=xpath) instead\n",
      "  first_pic= driver.find_element_by_xpath('//div[@class=\"_aagw\"]')\n"
     ]
    },
    {
     "name": "stdout",
     "output_type": "stream",
     "text": [
      "https://www.instagram.com/odgabrielromero/\n"
     ]
    },
    {
     "name": "stderr",
     "output_type": "stream",
     "text": [
      "C:\\Users\\User\\AppData\\Local\\Temp/ipykernel_7356/3577569963.py:22: DeprecationWarning: find_element_by_xpath is deprecated. Please use find_element(by=By.XPATH, value=xpath) instead\n",
      "  user = driver.find_element_by_xpath('//a[@class=\"oajrlxb2 g5ia77u1 qu0x051f esr5mh6w e9989ue4 r7d6kgcz rq0escxv nhd2j8a9 nc684nl6 p7hjln8o kvgmc6g5 cxmmr5t8 oygrvhab hcukyx3x jb3vyjys rz4wbd8a qt6c0cv9 a8nywdso i1ao9s8h esuyzwwr f1sip0of lzcic4wl _acan _acao _acat _acaw _a6hd\"]')\n"
     ]
    }
   ],
   "source": [
    "find_profile('#dentist')"
   ]
  },
  {
   "cell_type": "code",
   "execution_count": null,
   "id": "89c6b799",
   "metadata": {},
   "outputs": [],
   "source": [
    "def show_more():\n",
    "    \n",
    "    #scroll down to scrape more images\n",
    "    driver.execute_script(\"window.scrollTo(0, 4000);\")\n",
    "\n",
    "    #target all images on the page\n",
    "    images = driver.find_elements_by_tag_name('img')\n",
    "    images = [image.get_attribute('src') for image in images]\n",
    "    images = images[:-2]\n",
    "\n",
    "    print('Number of scraped images: ', len(images))"
   ]
  }
 ],
 "metadata": {
  "kernelspec": {
   "display_name": "Python 3 (ipykernel)",
   "language": "python",
   "name": "python3"
  },
  "language_info": {
   "codemirror_mode": {
    "name": "ipython",
    "version": 3
   },
   "file_extension": ".py",
   "mimetype": "text/x-python",
   "name": "python",
   "nbconvert_exporter": "python",
   "pygments_lexer": "ipython3",
   "version": "3.9.7"
  }
 },
 "nbformat": 4,
 "nbformat_minor": 5
}
